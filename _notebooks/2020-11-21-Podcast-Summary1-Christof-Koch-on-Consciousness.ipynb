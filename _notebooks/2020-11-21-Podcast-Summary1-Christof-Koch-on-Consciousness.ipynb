{
 "cells": [
  {
   "cell_type": "markdown",
   "metadata": {},
   "source": [
    "# Podcast Summary #1 \n",
    "## Christof Koch: Consciousness | Lex Fridman Podcast #2\n",
    "https://www.youtube.com/watch?v=piHkfmeU7Wo\n",
    "\n",
    "John Calzaretta\n",
    "\n",
    "11/21/2020"
   ]
  },
  {
   "attachments": {},
   "cell_type": "markdown",
   "metadata": {},
   "source": [
    "### Bio: \n",
    "Christof Koch is a leading voice in Neurobiology/Neuroscience, and generally in the study of consciousness. He is the president of the CSO of the Allen Institute for Brain Science."
   ]
  },
  {
   "attachments": {},
   "cell_type": "markdown",
   "metadata": {},
   "source": [
    "### Definitions of Consciousness"
   ]
  },
  {
   "attachments": {},
   "cell_type": "markdown",
   "metadata": {},
   "source": [
    "In this interview, Christof challenges the definition of what defines consciousness. The challenge is that an individual can only know that they themselves are conscious. They will have to trust that others are as conscious well, and that they are not simply simulating conscious behavior. Because of this, common understanding is limited and we have no way to know the extent of consciousness. We rely on communication to show others that we are conscious ourselves.\n",
    "    \n",
    "There are a range of theories that ascribe consciousness to all matter, and theories that only ascribe it to humans, Christof thinks the theory that all living beings have consciousness is more reasonable. Whatever your definition of consciousness is, there currently is no way to validate whether or not an animal or plant meets your criteria. \n",
    "    \n",
    "Christof summarizes consciousness as the ability to experience. He explains that physics defines the relationships between the components of reality, but it says nothing about what the experience of being a prokaryote cell is like. To experience physics, to experience life as a being is consciousness for Christof (disclaimer: this is my interpretation, I'm sure his definition is much more nuanced). The Theory of Integrated Information says that a system that has an internal causal power feels like something - no matter how simple the system appears.\n",
    "    \n",
    "He primarily challenges that the common delineation of conscious vs non-conscious beings is whether or not they can talk. Common understanding stakes that humans are the only conscious beings, and this is a common idea throughout religion that the human race is the chosen race by God. This conclusion requires the premise that consciousness requires the ability to talk or articulate thoughts and feelings. If this premise does not stand, then we cannot conclude definitively that plants are unconscious organisms. To attack this premise, Christof sites examples of humans exhibiting conscious behavior without communication.  He tells of a man who is paralyzed except for his eyeballs, and who was able to write a book simply through the movement of his eyeballs. With Brain Machine Interfaces, there are ways to determine that if a fully-paralyzed or \"locked-in state\" human can still experiencing something. Additionally, conscious behavior is experienced in the REM dream state - we can feel intense emotions when dreaming about our long-gone dog or family member. Yet, these conscious experiences are internal, they do not require the human body or communication to another human to prove. Also, Christof sites a spiritual experience he had in a floatation tank (which I am also a big fan of) where all ideas of body, space, time, and mind slowly drift away, and all he was left with was conscious experience. His main point is that consciousness is centered around the ability to experience reality, and should not be defined based on the ability of a being to communicate their consciousness with others.\n"
   ]
  },
  {
   "cell_type": "markdown",
   "metadata": {},
   "source": [
    "### Artificial General Intelligence (AGI)"
   ]
  },
  {
   "attachments": {},
   "cell_type": "markdown",
   "metadata": {},
   "source": [
    "When talking about AGI and conscious algorithms, Christof provides an analogy where one can code a black hole in a computer program by using Einstein's and other astrophysics theories. Yet when the computer program is run, the programmer doesn’t get sucked into the black hole. The computer is only simulating a black hole, it is not truly a black hole and therefore is not experiencing what it is like to be a black hole. The same applies to consciousness and intelligence - currently computers can only simulate these things, they have no ability to experience.\n",
    "\n",
    "If we create a super-intelligent AI system (close to AGI), we want this to be conscious in order to integrate with humans and be empathetic to their cause. Without empathy, algorithms will run according to utility functions, which are potentially detrimental to humans. It may be best for the economy to kill everyone's dogs for whatever reason, and AI wouldn't see a reason why not to do it.\n",
    "\n",
    "Christof laughs at the Simulation Hypothesis, calling it the \"Rapture for Nerds\". It's just another evolution of the philosophical question that's been around forever - are we in the mind of God? It's esoteric and there is no way to validate, so it is a futile question to ask."
   ]
  },
  {
   "attachments": {},
   "cell_type": "markdown",
   "metadata": {},
   "source": [
    "### Religion and Consciousness"
   ]
  },
  {
   "attachments": {},
   "cell_type": "markdown",
   "metadata": {},
   "source": [
    "Christof's philosophy aligns most closely with Buddhism (minus reincarnation), mainly he believes in minimizing the suffering of all beings. Buddhism holds consciousness as primary and superior to both the mind and the ego, and it focusses on experiencing life rather than judging it and ascribing ego to it.\n",
    "\n",
    "When asked about the existence of free will, he explains that complete free will is never possible because of the pre-conditioned algorithms and sub-conscious decision making that is continually occuring within the individual. One has the free will to work at changing these algorithms (Carl Jung's \"Shadow Work\"), but there will never be a full escape. Instead, free will is most closely experienced during intense decision making (buying a house, changing jobs, etc.).\n",
    "\n",
    "Feature or Bug - Human's inability to understand the subconscious? It's a feature because of the depth of information processing required to move forward in the world - we have to be conscious when learning, but then we need to automate responses in the long run (such as typing) to save energy and function semi-productively. It seems like a bug that we don't have the ability to wipe traumatic memories, but if we had this ability it'd likely result in using it too much, which would be destructive in the end."
   ]
  },
  {
   "cell_type": "markdown",
   "metadata": {},
   "source": [
    "### Next Steps"
   ]
  },
  {
   "attachments": {},
   "cell_type": "markdown",
   "metadata": {},
   "source": [
    "##### For a student aspiring to enter this field of study: \n",
    "Study at the intersection of Cognitive Behavioral Science, Philosophy of Mind, and AI disciplines.\n",
    "\n",
    "##### For Christof: \n",
    "There is an area in the brain called the cloud storm, which receives input from every cortical area, and projects outputs back to every cortical area - similar to a conductor in a symphony.  It is one of the structures in which the individual parts construct the whole of the experience. Christof is excited to study it through his neuron-reconstruction project and understand how this mechanism relates to consciousness."
   ]
  }
 ],
 "metadata": {
  "kernelspec": {
   "display_name": "Python 3",
   "language": "python",
   "name": "python3"
  },
  "language_info": {
   "codemirror_mode": {
    "name": "ipython",
    "version": 3
   },
   "file_extension": ".py",
   "mimetype": "text/x-python",
   "name": "python",
   "nbconvert_exporter": "python",
   "pygments_lexer": "ipython3",
   "version": "3.7.4"
  }
 },
 "nbformat": 4,
 "nbformat_minor": 2
}
