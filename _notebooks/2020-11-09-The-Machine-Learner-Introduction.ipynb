{
 "cells": [
  {
   "cell_type": "markdown",
   "metadata": {},
   "source": [
    "### The Machine Learner – Introduction"
   ]
  },
  {
   "cell_type": "markdown",
   "metadata": {},
   "source": [
    "##### What attracts me to data science?"
   ]
  },
  {
   "cell_type": "markdown",
   "metadata": {},
   "source": [
    "Problem solving has always been my greatest strength. In school I enjoyed and excelled at math, but as I took math classes in college, I realized that I didn’t care to get deeper into theoretical concepts – I wanted to solve real world problems. Luckily, the same semester that I gave up my pursuit of Actuarial Science, Notre Dame announced they’d be launching a new Business Analytics major for my class. I gave it a try after enjoying my first IT/Excel class and was quickly confident that I had made the right choice.\n",
    "\n",
    "Before any analytics started, I quickly began to enjoy coding. One learns Spanish for communication purposes, but one learns the Python language for problem-solving purposes. This concept still fascinates me – with human language I can at most communicate to 7 billion people, but with code I can not only communicate with, but control (essentially) infinite computers. Humans are tool-using creatures, and computer coding is likely the greatest tool that has ever been available to man.\n",
    "\n",
    "The hook went deeper when I began predictive analytics. As a kid I always fought to be right in every argument with my sisters. Then in high school, I became obsessed with fantasy football and was very entertained by the idea of predicting a player's output and then competing with a friend to prove that my predictions were better than there's. My introduction to predictive analytics played perfectly to this crave, and I found it quite exciting to optimize my decision-making power. Relying on data and state-of-the-art algorithms is much more effective for making predictions than are gut feelings or emotional decision making.\n",
    "\n",
    "As I matured and went through college, I became very interested in the pursuit of truth. If \"truth\" from a philosophical perspective indeed exists, then no human can ever fully approach or capture it - no matter how intelligent or wise. Machine's likely will never capture pure \"truth\" either, but they will be able to collect and interpret data on nearly all facets of human life and the natural world. With processing power and tools such as deep learning, AI will be better able to understand the world than any network of humans has to date. My university curriculum barely scraped the bottom of deep learning, but I got just enough of a taste to fuel my desire to continue learning and developing my ML skills."
   ]
  },
  {
   "cell_type": "markdown",
   "metadata": {},
   "source": [
    "##### What fuels your passion for Machine Learning today?"
   ]
  },
  {
   "cell_type": "markdown",
   "metadata": {},
   "source": [
    "I love making predictions when looking forward, but when looking backward I am constantly interpreting the world through the lens of evolution and natural selection. Some of my favorite books are Darwin’s The Origin of Species, and Yuval Noah Harari’s Sapiens, Homo Deus, and 21 Lessons for the 21st Century. The many successive evolutions leading humans from hunter-gathers to smart-phone junkies have each completely altered the lives of all, changing the way societies and economies operate, changing how people view the world, how people interact with each other.\n",
    "\n",
    "The more I read, experience, and learn about machine learning, the more confidently I know that ML will be as impactful to the evolution of society as were the printing press, the automobile, and the internet. When ML knows me better than I know myself, and when ML is able to automate most jobs in the economy, we will be living in a completely new world - one that is impossible to understand, and one that requires a massive shift of norms. \n",
    "\n",
    "ML/AI will come to dominate every industry, and it will change every facet of individual lifestyles, international economies, culture and religion, and global community. In the past, jobs replaced by new technologies have been replaced with newly created jobs. When the agricultural industry was largely automated away, the accounting profession surged in supply to offset it. There is no way to be certain how the job market will be affected by AI and Machine Learning, but we can be certain that these technologies will replace human intelligence, while in the past technologies have only replaced human labor. When this barrier is crossed, I genuinely believe there cannot be enough new jobs to be found elsewhere. If there are new jobs to be found, they will likely be replaced shortly themselves.\n",
    "\n",
    "This evolution will occur exponentially quicker than any other previous evolution. With the popularization of the internet and smart-phones, we all experienced a subtle but rapid shift in our everyday lives. One day we were living normal lives, focused on our surroundings, and ten years later we are all densely connected to the internet and each other, and we forget that life wasn’t like this until very recently. There is no alien ship that is going to land on Earth and change everything in a single point of time - these technological changes are viewed as alien now, but when they \"land\" they do so very quietly and slowly, becoming a greater and greater influence on the average person's life until it becomes the only life they know. How long could you go without your smartphone? How long could you go without the internet?\n",
    "\n",
    "Given the current trajectory, we need to begin thinking about the implications today. How will education change when the job market has need for less and less humans? How will third world economies be affected when their jobs are automated away by Western technology companies? How will individuals be compensated for their data, which serves as fuel for the machines that have replaced their jobs? \n",
    "\n",
    "Machine learning is inevitably going to improve to a point where it will run the entire world - for the most part it already is today. This revolution will be unnoticeable to most people, and until the government becomes more educated in data and computer science, this revolution will be led by a small group of top data scientists. There are many very good use cases of ML - currently third world countries average one doctor for every ten that are needed by the people, and AI appears to be the solution to provide this medical care and knowledge that is extremely lacking across the globe. Given the strength of my core data science, my passion for predictive models, and my foresight of the evolution to come, I strongly feel that it is my duty to become a part of this evolution and direct it toward good."
   ]
  },
  {
   "cell_type": "markdown",
   "metadata": {},
   "source": [
    "##### How do you plan to act on this passion and master Machine Learning?"
   ]
  },
  {
   "cell_type": "markdown",
   "metadata": {},
   "source": [
    "With the depth of resources and communities available for self-learning online, I think the best route to ML mastery is through a Masters or PHD, but to take online courses, compete in competitions, and read research papers habitually. I found my undergraduate education in data science to be very effective and essential for building my passion and confidence, but from here I feel confident that everything I learned in undergrad, I could have learned through a structured system of online courses and competitions. In fact, most of my curriculum and class projects were recycled Kaggle competitions - the only benefit was having a TA and office hours, which GitHub, Stack Overflow, and hopefully one mentor will make up for. I am confident that I can conduct my own Masters program and that my commitment to it will result in a stronger skillset than being hand-fed the same curriculum at a slower pace, and with more distractions. Luckily, the nature of data science competitions lends itself to proving one's skills through model performance rankings, rather than grades or a piece of paper. Hopefully, my choice to institute my own mastery program, and the results that will show in competitions will prove my passion and effectiveness to future employers.\n",
    "\n",
    "I plan to use this blog to hold me accountable to this self-driven path, and to force me to pause and absorb my recent lessons, articulate my fresh thoughts, and hopefully help a few youngsters beginning their ML journey."
   ]
  },
  {
   "cell_type": "markdown",
   "metadata": {},
   "source": [
    "##### In summary..."
   ]
  },
  {
   "cell_type": "markdown",
   "metadata": {},
   "source": [
    "I am highly motivated to become a data science master and I plan to set out on a career-long journey of continual education, and continual investment. This is fueled by my fascination with optimizing decisions and by my foresight into the power the ML will unleash in the years to come. I see the changes in the world that ML will cause, and I want to be a force of good to guide or influence this incoming revolution.\n",
    "\n",
    "Thanks for reading!"
   ]
  }
 ],
 "metadata": {
  "kernelspec": {
   "display_name": "Python 3",
   "language": "python",
   "name": "python3"
  },
  "language_info": {
   "codemirror_mode": {
    "name": "ipython",
    "version": 3
   },
   "file_extension": ".py",
   "mimetype": "text/x-python",
   "name": "python",
   "nbconvert_exporter": "python",
   "pygments_lexer": "ipython3",
   "version": "3.7.4"
  }
 },
 "nbformat": 4,
 "nbformat_minor": 2
}
